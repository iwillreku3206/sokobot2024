{
 "cells": [
  {
   "cell_type": "markdown",
   "metadata": {},
   "source": [
    "\n",
    "Import the following modules before running the analyzer:"
   ]
  },
  {
   "cell_type": "code",
   "execution_count": 1,
   "metadata": {},
   "outputs": [],
   "source": [
    "\n",
    "import os\n",
    "import math\n",
    "import re\n",
    "import warnings\n",
    "import pandas as pd\n",
    "import matplotlib.pyplot as plt\n",
    "from matplotlib.widgets import Button"
   ]
  },
  {
   "cell_type": "code",
   "execution_count": 2,
   "metadata": {},
   "outputs": [],
   "source": [
    "# Some settings to help filter the data.\n",
    "warnings.filterwarnings('ignore')\n",
    "pd.set_option('display.width', 1000)"
   ]
  },
  {
   "cell_type": "markdown",
   "metadata": {},
   "source": [
    "## Coloring and Visualization\n",
    "Helps with analyzing data in a much visually significant way."
   ]
  },
  {
   "cell_type": "code",
   "execution_count": 3,
   "metadata": {},
   "outputs": [],
   "source": [
    "# Colors text output of some functions.\n",
    "def hex_to_rgb(hex_code: str) -> tuple[int, int, int]:\n",
    "    \"\"\"Turns hexcode to rgb\n",
    "\n",
    "    Args:\n",
    "        hex_code (str): hexcode that starts with #\n",
    "\n",
    "    Returns:\n",
    "        tuple(int, int, int): a tuple containing rgb information\n",
    "    \"\"\"\n",
    "    hex_code = hex_code.lstrip('#')\n",
    "    return tuple(int(hex_code[i:i + 2], 16) for i in (0, 2, 4))\n",
    "\n",
    "def rgb_to_ansi_rgb(r, g, b):\n",
    "    \"\"\"Turns rgb values to ANSI escape codes\n",
    "\n",
    "    Args:\n",
    "        r (int): red\n",
    "        g (int): green\n",
    "        b (int): blue\n",
    "\n",
    "    Returns:\n",
    "        str: Equivalent Ansi Escape code.\n",
    "    \"\"\"\n",
    "    return f\"\\033[38;2;{r};{g};{b}m\"\n",
    "\n",
    "def colored_text(hex_code):\n",
    "    \"\"\"_summary_\n",
    "\n",
    "    Args:\n",
    "        hex_code (str): hexcode that starts with #\n",
    "\n",
    "    Returns:\n",
    "        str: Equivalent Ansi Escape code.\n",
    "    \"\"\"\n",
    "    r, g, b = hex_to_rgb(hex_code)\n",
    "    ansi_color = rgb_to_ansi_rgb(r, g, b)\n",
    "    return ansi_color;\n",
    "\n",
    "def print_essay(essay: list[str]) -> None:\n",
    "    \"\"\"Concatenates a list of strings, then prints them in a single println statement.\n",
    "\n",
    "    Args:\n",
    "        essay (list[str]): List of sentences you want to output\n",
    "    \"\"\"\n",
    "    output: str = str(\"\");\n",
    "    for sentence in essay:\n",
    "        output += (sentence + '\\n');\n",
    "    print(output)"
   ]
  },
  {
   "cell_type": "markdown",
   "metadata": {},
   "source": [
    "Preprocess the dataframe. Convert some columns into useful data."
   ]
  },
  {
   "cell_type": "code",
   "execution_count": 4,
   "metadata": {},
   "outputs": [],
   "source": [
    "# Preprocess the data.\n",
    "def create_logs_of_colmn(df: pd.DataFrame, col_names: list[str]):\n",
    "    \"\"\"Create the logarithm of a list of column names\n",
    "\n",
    "    Args:\n",
    "        df (pd.DataFrame): dataframe to modify\n",
    "        col_names (list[str]): list of strings to modify\n",
    "    \"\"\"\n",
    "    for col_name in col_names:\n",
    "        df[\"log_{}\".format(col_name)] = df[col_name].agg(math.log)\n",
    "\n",
    "\n",
    "def remove_seconds(input: str):\n",
    "    \"\"\"Used as an aggregate function to strip the seconds unit\n",
    "\n",
    "    Args:\n",
    "        input (str): numeric containing s at the end\n",
    "\n",
    "    Returns:\n",
    "        str: String with removed string unit\n",
    "    \"\"\"\n",
    "    return input.rstrip(\"s\"); \n",
    "\n",
    "def preprocess_df(df: pd.DataFrame) -> None:\n",
    "    \"\"\"Preprocesses dataframe for compatability. Turns the type of time_taken to float.\n",
    "\n",
    "    Args:\n",
    "        df (pd.DataFrame): _description_\n",
    "    \"\"\"\n",
    "    df[\"time_taken\"] = df[\"time_taken\"].transform(remove_seconds)\n",
    "    df[\"time_taken\"] = df[\"time_taken\"].astype(float);\n",
    "    ## create_logs_of_colmn(df, [\"\"])"
   ]
  },
  {
   "cell_type": "markdown",
   "metadata": {},
   "source": [
    "Some useful constants to use "
   ]
  },
  {
   "cell_type": "code",
   "execution_count": 5,
   "metadata": {},
   "outputs": [],
   "source": [
    "RESET_COLORS = \"\\033[0m\" \n",
    "\n",
    "CSV_FILE = \"result_tests (copy 1).csv\"\n",
    "\n",
    "INFO_COLORS = {\n",
    "    \"time_taken\": \"#ABE188\", \n",
    "    \"no_move\": \"#F7EF99\", \n",
    "    \"no_c\": \"#F1BB87\",\n",
    "}\n",
    "\n",
    "COLORS = {\n",
    "    \"RED\" : \"#FF0000\",\n",
    "    \"GREEN\": \"#00FF00\"\n",
    "}\n",
    "\n",
    "SIGNIFICANT_COLUMNS = [\"no_c\", \"no_move\", \"time_taken\"]\n",
    "\n",
    "BASIS_STATS = {\n",
    "    \n",
    "    \"Mean   :\" : \"mean\",\n",
    "    \"Median :\" : \"median\",\n",
    "    \"Max    :\" : \"max\",\n",
    "    \"Min    :\" : \"min\",\n",
    "    \"Sum    :\" : \"sum\"\n",
    "}"
   ]
  },
  {
   "cell_type": "code",
   "execution_count": 6,
   "metadata": {},
   "outputs": [],
   "source": [
    "df = pd.read_csv(CSV_FILE)\n",
    "\n",
    "preprocess_df(df)\n",
    "\n",
    "df_sucessful    = df[df[\"has_won\"] == True];\n",
    "df_failed       = df[df[\"has_won\"] == False];"
   ]
  },
  {
   "cell_type": "code",
   "execution_count": 7,
   "metadata": {},
   "outputs": [
    {
     "name": "stdout",
     "output_type": "stream",
     "text": [
      "    test_name   test_file  time_taken  no_move  no_c  has_won                                           solution\n",
      "0  fourboxes1  fourboxes1        0.22      104     4     True  lullulurrrlldddlurrrrdlluluurrdullddrdrruluull...\n",
      "1   twoboxes3   twoboxes3        0.13       68     2     True  lulldrrddludruuulldrlurrdrdrrulllulldrdrrldluu...\n",
      "2      stuck2      stuck2        0.14       18     2    False                                 No solution found.\n",
      "3       base4       base4        0.40       55     3     True  dddruuurrrdddluurulurululldrurdrddllldlurrruru...\n",
      "4  fiveboxes1  fiveboxes1        0.64      122     5     True  rdrrruuldldllurruuluurdrrullldrddrrddlluudlldr...\n"
     ]
    }
   ],
   "source": [
    "\n",
    "# Print the first few rows\n",
    "print(df.head())\n"
   ]
  },
  {
   "cell_type": "markdown",
   "metadata": {},
   "source": [
    "# How many games can sokocat win?\n",
    "These are statistics that measure the likelihood for sokocat to find as solution within 15.0s. "
   ]
  },
  {
   "cell_type": "code",
   "execution_count": 8,
   "metadata": {},
   "outputs": [
    {
     "name": "stdout",
     "output_type": "stream",
     "text": [
      "How many tests have sokobot won in General?\n",
      "\u001b[38;2;0;255;0mWon\u001b[0m      : 481\n",
      "\u001b[38;2;255;0;0mFail\u001b[0m     : 593\n",
      "---------+--------------------------------\n",
      "Win Rate : 44.78584729981378%\n",
      "\n"
     ]
    }
   ],
   "source": [
    "# Overall in most games.\n",
    "essay_overall_wins = [\n",
    "    \"How many tests have sokobot won in General?\",\n",
    "    \"{}Won{}      : {}\".format(colored_text(COLORS[\"GREEN\"]),  RESET_COLORS, str(df_sucessful.shape[0])),\n",
    "    \"{}Fail{}     : {}\".format(colored_text(COLORS[\"RED\"]), RESET_COLORS, str(df_failed.shape[0])),\n",
    "    \"---------+--------------------------------\",\n",
    "    \"Win Rate : {}%\".format(str(df_sucessful.shape[0] / df.shape[0] * 100))\n",
    "]\n",
    "\n",
    "print_essay(essay_overall_wins)"
   ]
  },
  {
   "cell_type": "code",
   "execution_count": null,
   "metadata": {},
   "outputs": [],
   "source": []
  },
  {
   "cell_type": "code",
   "execution_count": null,
   "metadata": {},
   "outputs": [],
   "source": []
  }
 ],
 "metadata": {
  "kernelspec": {
   "display_name": "Python 3",
   "language": "python",
   "name": "python3"
  },
  "language_info": {
   "codemirror_mode": {
    "name": "ipython",
    "version": 3
   },
   "file_extension": ".py",
   "mimetype": "text/x-python",
   "name": "python",
   "nbconvert_exporter": "python",
   "pygments_lexer": "ipython3",
   "version": "3.12.3"
  }
 },
 "nbformat": 4,
 "nbformat_minor": 2
}
